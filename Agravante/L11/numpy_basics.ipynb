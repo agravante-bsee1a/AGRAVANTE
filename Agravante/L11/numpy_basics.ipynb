{
 "cells": [
  {
   "cell_type": "markdown",
   "id": "5371b298",
   "metadata": {},
   "source": [
    "# Numpy Basics <hr style=\"border:2.5px solid#ff7f50\"></hr>"
   ]
  },
  {
   "cell_type": "markdown",
   "id": "64cfbc47",
   "metadata": {},
   "source": [
    "Data Analyst: Bryx V. Agravante <br>\n",
    "Department: Electrical Engineering"
   ]
  },
  {
   "cell_type": "code",
   "execution_count": null,
   "id": "5cca2958",
   "metadata": {},
   "outputs": [],
   "source": [
    "%pip install numpy --upgrade"
   ]
  },
  {
   "cell_type": "code",
   "execution_count": null,
   "id": "ce48be87",
   "metadata": {},
   "outputs": [],
   "source": [
    "%pip install scipy --upgrade"
   ]
  },
  {
   "cell_type": "code",
   "execution_count": 16,
   "id": "0ae24566",
   "metadata": {},
   "outputs": [],
   "source": [
    "import numpy as np\n",
    "from scipy import stats"
   ]
  },
  {
   "cell_type": "markdown",
   "id": "975c791b",
   "metadata": {},
   "source": [
    "# 1D Array"
   ]
  },
  {
   "cell_type": "code",
   "execution_count": 5,
   "id": "6919db60",
   "metadata": {},
   "outputs": [
    {
     "data": {
      "text/plain": [
       "array([1, 2, 3])"
      ]
     },
     "execution_count": 5,
     "metadata": {},
     "output_type": "execute_result"
    }
   ],
   "source": [
    "array_a = np.array([1,2,3])\n",
    "array_a"
   ]
  },
  {
   "cell_type": "code",
   "execution_count": 6,
   "id": "ee17129d",
   "metadata": {},
   "outputs": [
    {
     "data": {
      "text/plain": [
       "(3,)"
      ]
     },
     "execution_count": 6,
     "metadata": {},
     "output_type": "execute_result"
    }
   ],
   "source": [
    "np.shape(array_a)"
   ]
  },
  {
   "cell_type": "code",
   "execution_count": 7,
   "id": "f8c27e66",
   "metadata": {},
   "outputs": [
    {
     "data": {
      "text/plain": [
       "array([4, 5, 6])"
      ]
     },
     "execution_count": 7,
     "metadata": {},
     "output_type": "execute_result"
    }
   ],
   "source": [
    "array_b = np.array([4,5,6])\n",
    "array_b"
   ]
  },
  {
   "cell_type": "markdown",
   "id": "89d6fc7a",
   "metadata": {},
   "source": [
    "# 2D Array"
   ]
  },
  {
   "cell_type": "code",
   "execution_count": 8,
   "id": "82db2701",
   "metadata": {},
   "outputs": [
    {
     "data": {
      "text/plain": [
       "array([[1, 2, 3],\n",
       "       [4, 5, 6]])"
      ]
     },
     "execution_count": 8,
     "metadata": {},
     "output_type": "execute_result"
    }
   ],
   "source": [
    "my_array = np.array([[1,2,3],[4,5,6]])\n",
    "my_array"
   ]
  },
  {
   "cell_type": "code",
   "execution_count": 9,
   "id": "798b40d6",
   "metadata": {},
   "outputs": [
    {
     "data": {
      "text/plain": [
       "(2, 3)"
      ]
     },
     "execution_count": 9,
     "metadata": {},
     "output_type": "execute_result"
    }
   ],
   "source": [
    "np.shape(my_array)"
   ]
  },
  {
   "cell_type": "code",
   "execution_count": 10,
   "id": "60a94e31",
   "metadata": {},
   "outputs": [
    {
     "data": {
      "text/plain": [
       "array([[1, 4],\n",
       "       [2, 5],\n",
       "       [3, 6]])"
      ]
     },
     "execution_count": 10,
     "metadata": {},
     "output_type": "execute_result"
    }
   ],
   "source": [
    "t_array = my_array.T\n",
    "t_array"
   ]
  },
  {
   "cell_type": "code",
   "execution_count": 11,
   "id": "ab0ed6a7",
   "metadata": {},
   "outputs": [
    {
     "data": {
      "text/plain": [
       "(3, 2)"
      ]
     },
     "execution_count": 11,
     "metadata": {},
     "output_type": "execute_result"
    }
   ],
   "source": [
    "np.shape(t_array)"
   ]
  },
  {
   "cell_type": "markdown",
   "id": "9dd7e029",
   "metadata": {},
   "source": [
    "# Measures of Central Tendecy"
   ]
  },
  {
   "cell_type": "code",
   "execution_count": 13,
   "id": "f8480fd8",
   "metadata": {},
   "outputs": [
    {
     "data": {
      "text/plain": [
       "array([120,  60,  85, 150, 200])"
      ]
     },
     "execution_count": 13,
     "metadata": {},
     "output_type": "execute_result"
    }
   ],
   "source": [
    "fruits = np.array([120,60,85,150,200])\n",
    "fruits"
   ]
  },
  {
   "cell_type": "code",
   "execution_count": 14,
   "id": "7baf2e67",
   "metadata": {},
   "outputs": [
    {
     "data": {
      "text/plain": [
       "np.float64(123.0)"
      ]
     },
     "execution_count": 14,
     "metadata": {},
     "output_type": "execute_result"
    }
   ],
   "source": [
    "fruits_mean = np.mean(fruits)\n",
    "fruits_mean"
   ]
  },
  {
   "cell_type": "code",
   "execution_count": 15,
   "id": "d22a32d3",
   "metadata": {},
   "outputs": [
    {
     "data": {
      "text/plain": [
       "np.float64(120.0)"
      ]
     },
     "execution_count": 15,
     "metadata": {},
     "output_type": "execute_result"
    }
   ],
   "source": [
    "fruits_median = np.median(fruits)\n",
    "fruits_median"
   ]
  },
  {
   "cell_type": "code",
   "execution_count": 18,
   "id": "ac753906",
   "metadata": {},
   "outputs": [
    {
     "data": {
      "text/plain": [
       "ModeResult(mode=np.int64(60), count=np.int64(1))"
      ]
     },
     "execution_count": 18,
     "metadata": {},
     "output_type": "execute_result"
    }
   ],
   "source": [
    "fruits_mode = stats.mode(fruits)\n",
    "fruits_mode"
   ]
  },
  {
   "cell_type": "markdown",
   "id": "91e25c48",
   "metadata": {},
   "source": [
    "# Panther vs Jaguar"
   ]
  },
  {
   "cell_type": "markdown",
   "id": "60f7e598",
   "metadata": {},
   "source": [
    "# Panther"
   ]
  },
  {
   "cell_type": "code",
   "execution_count": 19,
   "id": "f471c6f8",
   "metadata": {},
   "outputs": [
    {
     "data": {
      "text/plain": [
       "array([10.6,  9.1,  9.3,  9.8, 10.5, 10.4,  9.5, 11. , 10.4,  3. ,  9.8])"
      ]
     },
     "execution_count": 19,
     "metadata": {},
     "output_type": "execute_result"
    }
   ],
   "source": [
    "panther = np.array([10.6,9.1,9.3,9.8,10.5,10.4,9.5,11,10.4,3,9.8])\n",
    "panther"
   ]
  },
  {
   "cell_type": "code",
   "execution_count": 20,
   "id": "6d8fc4ae",
   "metadata": {},
   "outputs": [
    {
     "data": {
      "text/plain": [
       "np.float64(9.399999999999999)"
      ]
     },
     "execution_count": 20,
     "metadata": {},
     "output_type": "execute_result"
    }
   ],
   "source": [
    "mean_pan = np.mean(panther)\n",
    "mean_pan"
   ]
  },
  {
   "cell_type": "code",
   "execution_count": 21,
   "id": "804706be",
   "metadata": {},
   "outputs": [
    {
     "data": {
      "text/plain": [
       "np.float64(9.8)"
      ]
     },
     "execution_count": 21,
     "metadata": {},
     "output_type": "execute_result"
    }
   ],
   "source": [
    "median_pan = np.median(panther)\n",
    "median_pan"
   ]
  },
  {
   "cell_type": "code",
   "execution_count": 22,
   "id": "b2a368d3",
   "metadata": {},
   "outputs": [
    {
     "data": {
      "text/plain": [
       "ModeResult(mode=np.float64(9.8), count=np.int64(2))"
      ]
     },
     "execution_count": 22,
     "metadata": {},
     "output_type": "execute_result"
    }
   ],
   "source": [
    "mode_pan = stats.mode(panther)\n",
    "mode_pan"
   ]
  },
  {
   "cell_type": "code",
   "execution_count": 24,
   "id": "c8dcc461",
   "metadata": {},
   "outputs": [
    {
     "data": {
      "text/plain": [
       "np.float64(8.0)"
      ]
     },
     "execution_count": 24,
     "metadata": {},
     "output_type": "execute_result"
    }
   ],
   "source": [
    "max_pan = np.max(panther)\n",
    "min_pan = np.min(panther)\n",
    "\n",
    "range_pan = max_pan - min_pan\n",
    "range_pan"
   ]
  },
  {
   "cell_type": "code",
   "execution_count": 25,
   "id": "64dafd99",
   "metadata": {},
   "outputs": [
    {
     "data": {
      "text/plain": [
       "np.float64(9.4)"
      ]
     },
     "execution_count": 25,
     "metadata": {},
     "output_type": "execute_result"
    }
   ],
   "source": [
    "q1_pan = np.percentile(panther,25)\n",
    "q1_pan"
   ]
  },
  {
   "cell_type": "code",
   "execution_count": 26,
   "id": "535a1767",
   "metadata": {},
   "outputs": [
    {
     "data": {
      "text/plain": [
       "np.float64(10.45)"
      ]
     },
     "execution_count": 26,
     "metadata": {},
     "output_type": "execute_result"
    }
   ],
   "source": [
    "q3_pan = np.percentile(panther,75)\n",
    "q3_pan"
   ]
  },
  {
   "cell_type": "code",
   "execution_count": 27,
   "id": "6e6aad1e",
   "metadata": {},
   "outputs": [
    {
     "data": {
      "text/plain": [
       "np.float64(1.049999999999999)"
      ]
     },
     "execution_count": 27,
     "metadata": {},
     "output_type": "execute_result"
    }
   ],
   "source": [
    "iqr_pan = q3_pan - q1_pan\n",
    "iqr_pan"
   ]
  },
  {
   "cell_type": "code",
   "execution_count": 28,
   "id": "c32e9f21",
   "metadata": {},
   "outputs": [
    {
     "data": {
      "text/plain": [
       "np.float64(4.418181818181818)"
      ]
     },
     "execution_count": 28,
     "metadata": {},
     "output_type": "execute_result"
    }
   ],
   "source": [
    "var_pan = np.var(panther)\n",
    "var_pan"
   ]
  },
  {
   "cell_type": "code",
   "execution_count": 29,
   "id": "ad1c6638",
   "metadata": {},
   "outputs": [
    {
     "data": {
      "text/plain": [
       "np.float64(2.101947149236112)"
      ]
     },
     "execution_count": 29,
     "metadata": {},
     "output_type": "execute_result"
    }
   ],
   "source": [
    "std_pan = np.std(panther)\n",
    "std_pan"
   ]
  },
  {
   "cell_type": "markdown",
   "id": "903043c9",
   "metadata": {},
   "source": [
    "# Jaguar"
   ]
  },
  {
   "cell_type": "code",
   "execution_count": 30,
   "id": "6926b758",
   "metadata": {},
   "outputs": [
    {
     "data": {
      "text/plain": [
       "array([10.1, 11. ,  9.1, 20. ,  9.2, 10.8,  9.9,  9.2,  9.1,  9.1])"
      ]
     },
     "execution_count": 30,
     "metadata": {},
     "output_type": "execute_result"
    }
   ],
   "source": [
    "jaguar = np.array([10.1,11,9.1,20,9.2,10.8,9.9,9.2,9.1,9.1])\n",
    "jaguar"
   ]
  },
  {
   "cell_type": "code",
   "execution_count": 31,
   "id": "ea1c3ca0",
   "metadata": {},
   "outputs": [
    {
     "data": {
      "text/plain": [
       "np.float64(10.75)"
      ]
     },
     "execution_count": 31,
     "metadata": {},
     "output_type": "execute_result"
    }
   ],
   "source": [
    "mean_jag = np.mean(jaguar)\n",
    "mean_jag"
   ]
  },
  {
   "cell_type": "code",
   "execution_count": 32,
   "id": "7e1101af",
   "metadata": {},
   "outputs": [
    {
     "data": {
      "text/plain": [
       "np.float64(9.55)"
      ]
     },
     "execution_count": 32,
     "metadata": {},
     "output_type": "execute_result"
    }
   ],
   "source": [
    "median_jag = np.median(jaguar)\n",
    "median_jag"
   ]
  },
  {
   "cell_type": "code",
   "execution_count": 33,
   "id": "48e6b0b1",
   "metadata": {},
   "outputs": [
    {
     "data": {
      "text/plain": [
       "ModeResult(mode=np.float64(9.1), count=np.int64(3))"
      ]
     },
     "execution_count": 33,
     "metadata": {},
     "output_type": "execute_result"
    }
   ],
   "source": [
    "mode_jag = stats.mode(jaguar)\n",
    "mode_jag"
   ]
  },
  {
   "cell_type": "code",
   "execution_count": 34,
   "id": "06ed04dd",
   "metadata": {},
   "outputs": [
    {
     "data": {
      "text/plain": [
       "np.float64(10.9)"
      ]
     },
     "execution_count": 34,
     "metadata": {},
     "output_type": "execute_result"
    }
   ],
   "source": [
    "max_jag = np.max(jaguar)\n",
    "min_jag = np.min(jaguar)\n",
    "\n",
    "range_jag = max_jag - min_jag\n",
    "range_jag"
   ]
  },
  {
   "cell_type": "code",
   "execution_count": 35,
   "id": "c2d8176f",
   "metadata": {},
   "outputs": [
    {
     "data": {
      "text/plain": [
       "np.float64(9.125)"
      ]
     },
     "execution_count": 35,
     "metadata": {},
     "output_type": "execute_result"
    }
   ],
   "source": [
    "q1_jag = np.percentile(jaguar,25)\n",
    "q1_jag"
   ]
  },
  {
   "cell_type": "code",
   "execution_count": 36,
   "id": "51225d2f",
   "metadata": {},
   "outputs": [
    {
     "data": {
      "text/plain": [
       "np.float64(10.625)"
      ]
     },
     "execution_count": 36,
     "metadata": {},
     "output_type": "execute_result"
    }
   ],
   "source": [
    "q3_jag = np.percentile(jaguar,75)\n",
    "q3_jag"
   ]
  },
  {
   "cell_type": "code",
   "execution_count": 37,
   "id": "8a95f052",
   "metadata": {},
   "outputs": [
    {
     "data": {
      "text/plain": [
       "np.float64(1.5)"
      ]
     },
     "execution_count": 37,
     "metadata": {},
     "output_type": "execute_result"
    }
   ],
   "source": [
    "iqr_jag = q3_jag - q1_jag\n",
    "iqr_jag"
   ]
  },
  {
   "cell_type": "code",
   "execution_count": 38,
   "id": "899dac5d",
   "metadata": {},
   "outputs": [
    {
     "data": {
      "text/plain": [
       "np.float64(9.974499999999999)"
      ]
     },
     "execution_count": 38,
     "metadata": {},
     "output_type": "execute_result"
    }
   ],
   "source": [
    "var_jag = np.var(jaguar)\n",
    "var_jag"
   ]
  },
  {
   "cell_type": "code",
   "execution_count": 39,
   "id": "3ff5c537",
   "metadata": {},
   "outputs": [
    {
     "data": {
      "text/plain": [
       "np.float64(3.1582431825304393)"
      ]
     },
     "execution_count": 39,
     "metadata": {},
     "output_type": "execute_result"
    }
   ],
   "source": [
    "std_jag = np.std(jaguar)\n",
    "std_jag"
   ]
  }
 ],
 "metadata": {
  "kernelspec": {
   "display_name": "Python 3",
   "language": "python",
   "name": "python3"
  },
  "language_info": {
   "codemirror_mode": {
    "name": "ipython",
    "version": 3
   },
   "file_extension": ".py",
   "mimetype": "text/x-python",
   "name": "python",
   "nbconvert_exporter": "python",
   "pygments_lexer": "ipython3",
   "version": "3.13.3"
  }
 },
 "nbformat": 4,
 "nbformat_minor": 5
}
