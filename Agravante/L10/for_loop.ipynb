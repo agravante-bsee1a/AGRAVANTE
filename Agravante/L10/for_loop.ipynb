{
 "cells": [
  {
   "cell_type": "markdown",
   "id": "c8e76639",
   "metadata": {},
   "source": [
    "# For Loop <hr style=\"border:2.5px solid#ff7f50\"></hr>"
   ]
  },
  {
   "cell_type": "markdown",
   "id": "d72222c4",
   "metadata": {},
   "source": [
    "Data Analyst: Bryx V. Agravante <br>\n",
    "Department: Electrical Engineering"
   ]
  },
  {
   "cell_type": "code",
   "execution_count": null,
   "id": "6c59097a",
   "metadata": {},
   "outputs": [],
   "source": [
    "%pip install numpy --upgrade"
   ]
  },
  {
   "cell_type": "code",
   "execution_count": null,
   "id": "8f4a57f0",
   "metadata": {},
   "outputs": [],
   "source": [
    "%pip install scipy --upgrade"
   ]
  },
  {
   "cell_type": "code",
   "execution_count": 13,
   "id": "371709e6",
   "metadata": {},
   "outputs": [],
   "source": [
    "import numpy as np\n",
    "from scipy import stats"
   ]
  },
  {
   "cell_type": "markdown",
   "id": "b731d6bc",
   "metadata": {},
   "source": [
    "# Iterating Over a list"
   ]
  },
  {
   "cell_type": "code",
   "execution_count": 7,
   "id": "b8fe8303",
   "metadata": {},
   "outputs": [
    {
     "name": "stdout",
     "output_type": "stream",
     "text": [
      "apple\n",
      "orange\n",
      "grapes\n",
      "5\n"
     ]
    }
   ],
   "source": [
    "fruits = ['apple','orange','grapes',5]\n",
    "for i in fruits:\n",
    "    print(i)"
   ]
  },
  {
   "cell_type": "code",
   "execution_count": 2,
   "id": "5a34c56f",
   "metadata": {},
   "outputs": [
    {
     "name": "stdout",
     "output_type": "stream",
     "text": [
      "1\n",
      "2\n",
      "3\n",
      "4\n",
      "5\n",
      "6\n",
      "7\n",
      "8\n",
      "9\n",
      "10\n"
     ]
    }
   ],
   "source": [
    "numbers = [1,2,3,4,5,6,7,8,9,10]\n",
    "for n in numbers:\n",
    "    print(n)"
   ]
  },
  {
   "cell_type": "code",
   "execution_count": 9,
   "id": "42f5b67e",
   "metadata": {},
   "outputs": [
    {
     "data": {
      "text/plain": [
       "np.float64(5.5)"
      ]
     },
     "execution_count": 9,
     "metadata": {},
     "output_type": "execute_result"
    }
   ],
   "source": [
    "np.mean(numbers)"
   ]
  },
  {
   "cell_type": "code",
   "execution_count": null,
   "id": "974069a2",
   "metadata": {},
   "outputs": [
    {
     "data": {
      "text/plain": [
       "np.float64(2.8722813232690143)"
      ]
     },
     "execution_count": 10,
     "metadata": {},
     "output_type": "execute_result"
    }
   ],
   "source": [
    "# population standard deviation\n",
    "np.std(numbers)"
   ]
  },
  {
   "cell_type": "code",
   "execution_count": 11,
   "id": "81f8e808",
   "metadata": {},
   "outputs": [
    {
     "data": {
      "text/plain": [
       "np.float64(3.0276503540974917)"
      ]
     },
     "execution_count": 11,
     "metadata": {},
     "output_type": "execute_result"
    }
   ],
   "source": [
    "# sample standard deviation\n",
    "np.std(numbers,ddof=1)"
   ]
  },
  {
   "cell_type": "code",
   "execution_count": 12,
   "id": "0c808f02",
   "metadata": {},
   "outputs": [
    {
     "data": {
      "text/plain": [
       "np.float64(5.5)"
      ]
     },
     "execution_count": 12,
     "metadata": {},
     "output_type": "execute_result"
    }
   ],
   "source": [
    "np.median(numbers)"
   ]
  },
  {
   "cell_type": "code",
   "execution_count": 14,
   "id": "9beabda8",
   "metadata": {},
   "outputs": [
    {
     "data": {
      "text/plain": [
       "ModeResult(mode=np.int64(1), count=np.int64(1))"
      ]
     },
     "execution_count": 14,
     "metadata": {},
     "output_type": "execute_result"
    }
   ],
   "source": [
    "stats.mode(numbers)"
   ]
  },
  {
   "cell_type": "markdown",
   "id": "322ee2cc",
   "metadata": {},
   "source": [
    "# Iterating Over a Dictionary"
   ]
  },
  {
   "cell_type": "code",
   "execution_count": 17,
   "id": "6dc4ddfc",
   "metadata": {},
   "outputs": [
    {
     "name": "stdout",
     "output_type": "stream",
     "text": [
      "1\n",
      "2\n",
      "3\n",
      "4\n",
      "5\n",
      "6\n",
      "7\n",
      "8\n",
      "9\n",
      "10\n"
     ]
    }
   ],
   "source": [
    "for j in range (0,10):\n",
    "    j = j + 1\n",
    "    print(j)"
   ]
  },
  {
   "cell_type": "code",
   "execution_count": 4,
   "id": "39035402",
   "metadata": {},
   "outputs": [
    {
     "name": "stdout",
     "output_type": "stream",
     "text": [
      "1\n",
      "4\n",
      "7\n"
     ]
    }
   ],
   "source": [
    "for j in range(1,10,3):\n",
    "    print(j)"
   ]
  },
  {
   "cell_type": "code",
   "execution_count": 5,
   "id": "d755ed7a",
   "metadata": {},
   "outputs": [
    {
     "name": "stdout",
     "output_type": "stream",
     "text": [
      "p\n",
      "y\n",
      "t\n",
      "h\n",
      "o\n",
      "n\n"
     ]
    }
   ],
   "source": [
    "for char in \"python\":\n",
    "    print(char)"
   ]
  },
  {
   "cell_type": "code",
   "execution_count": 1,
   "id": "1fde39d9",
   "metadata": {},
   "outputs": [
    {
     "name": "stdout",
     "output_type": "stream",
     "text": [
      "name\n",
      "position\n",
      "salary\n",
      "Bryx\n",
      "Electrical Engineer\n",
      "150000\n"
     ]
    }
   ],
   "source": [
    "employee = {\n",
    "    'name':'Bryx',\n",
    "    'position':'Electrical Engineer',\n",
    "    'salary':150000\n",
    "}\n",
    "for key in employee:\n",
    "    print(key)\n",
    "\n",
    "for value in employee.values():\n",
    "    print(value)"
   ]
  },
  {
   "cell_type": "code",
   "execution_count": null,
   "id": "9906adf6",
   "metadata": {},
   "outputs": [],
   "source": []
  }
 ],
 "metadata": {
  "kernelspec": {
   "display_name": "Python 3",
   "language": "python",
   "name": "python3"
  },
  "language_info": {
   "codemirror_mode": {
    "name": "ipython",
    "version": 3
   },
   "file_extension": ".py",
   "mimetype": "text/x-python",
   "name": "python",
   "nbconvert_exporter": "python",
   "pygments_lexer": "ipython3",
   "version": "3.13.3"
  }
 },
 "nbformat": 4,
 "nbformat_minor": 5
}
